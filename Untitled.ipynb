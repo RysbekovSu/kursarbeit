{
 "cells": [
  {
   "cell_type": "code",
   "execution_count": 4,
   "id": "665e305c-89cf-4028-9390-6b308ddaba9f",
   "metadata": {},
   "outputs": [
    {
     "ename": "NameError",
     "evalue": "name 'lin_reg' is not defined",
     "output_type": "error",
     "traceback": [
      "\u001b[1;31m---------------------------------------------------------------------------\u001b[0m",
      "\u001b[1;31mNameError\u001b[0m                                 Traceback (most recent call last)",
      "Cell \u001b[1;32mIn[4], line 38\u001b[0m\n\u001b[0;32m     23\u001b[0m new_data \u001b[38;5;241m=\u001b[39m pd\u001b[38;5;241m.\u001b[39mDataFrame({\n\u001b[0;32m     24\u001b[0m     \u001b[38;5;124m'\u001b[39m\u001b[38;5;124mseason\u001b[39m\u001b[38;5;124m'\u001b[39m: [\u001b[38;5;241m1\u001b[39m],  \u001b[38;5;66;03m# Зима\u001b[39;00m\n\u001b[0;32m     25\u001b[0m     \u001b[38;5;124m'\u001b[39m\u001b[38;5;124mmnth\u001b[39m\u001b[38;5;124m'\u001b[39m: [\u001b[38;5;241m1\u001b[39m],   \u001b[38;5;66;03m# Декабрь\u001b[39;00m\n\u001b[1;32m   (...)\u001b[0m\n\u001b[0;32m     34\u001b[0m     \u001b[38;5;124m'\u001b[39m\u001b[38;5;124mwindspeed\u001b[39m\u001b[38;5;124m'\u001b[39m: [\u001b[38;5;241m0\u001b[39m] \u001b[38;5;66;03m# Скорость ветра (normalized)\u001b[39;00m\n\u001b[0;32m     35\u001b[0m })\n\u001b[0;32m     37\u001b[0m \u001b[38;5;66;03m# Прогнозирование\u001b[39;00m\n\u001b[1;32m---> 38\u001b[0m predictions \u001b[38;5;241m=\u001b[39m predict_model(\u001b[43mlin_reg\u001b[49m, preprocessor, new_data)\n\u001b[0;32m     40\u001b[0m \u001b[38;5;28mprint\u001b[39m(\u001b[38;5;124mf\u001b[39m\u001b[38;5;124m\"\u001b[39m\u001b[38;5;124mPredicted count: \u001b[39m\u001b[38;5;132;01m{\u001b[39;00mpredictions[\u001b[38;5;241m0\u001b[39m]\u001b[38;5;132;01m}\u001b[39;00m\u001b[38;5;124m\"\u001b[39m)\n",
      "\u001b[1;31mNameError\u001b[0m: name 'lin_reg' is not defined"
     ]
    }
   ],
   "source": [
    "import pandas as pd\n",
    "from sklearn.model_selection import train_test_split\n",
    "from sklearn.preprocessing import StandardScaler, OneHotEncoder\n",
    "from sklearn.compose import ColumnTransformer\n",
    "from sklearn.linear_model import LinearRegression\n",
    "from sklearn.preprocessing import PolynomialFeatures\n",
    "from sklearn.tree import DecisionTreeRegressor\n",
    "from sklearn.ensemble import RandomForestRegressor, GradientBoostingRegressor\n",
    "from sklearn.metrics import mean_squared_error, r2_score\n",
    "\n",
    "\n",
    "\n",
    "def predict_model(model, preprocessor, data):\n",
    "    # Применение предобработки\n",
    "    data_transformed = preprocessor.transform(data)\n",
    "    \n",
    "    # Получение предсказаний\n",
    "    predictions = model.predict(data_transformed)\n",
    "    \n",
    "    return predictions\n",
    "\n",
    "# Предсказание на новых данных\n",
    "new_data = pd.DataFrame({\n",
    "    'season': [1],  # Зима\n",
    "    'mnth': [1],   # Декабрь\n",
    "    'hr': [0],     # 2 часа дня\n",
    "    'holiday': [0], # Не выходной\n",
    "    'weekday': [6], # Вторник\n",
    "    'workingday': [0], # Рабочий день\n",
    "    'weathersit': [1], # Ясная погода\n",
    "    'temp': [0.24],   # Температура (normalized)\n",
    "    'atemp': [0.2879],  # Ощущаемая температура (normalized)\n",
    "    'hum': [0.81],    # Влажность (normalized)\n",
    "    'windspeed': [0] # Скорость ветра (normalized)\n",
    "})\n",
    "\n",
    "# Прогнозирование\n",
    "predictions = predict_model(lin_reg, preprocessor, new_data)\n",
    "\n",
    "print(f\"Predicted count: {predictions[0]}\")\n"
   ]
  },
  {
   "cell_type": "code",
   "execution_count": null,
   "id": "d49db3d5-0c51-4cc5-8c43-1e9ac367b3d1",
   "metadata": {},
   "outputs": [],
   "source": []
  },
  {
   "cell_type": "code",
   "execution_count": null,
   "id": "4f37a3e5-bb2e-43bc-8242-c914b80f22c7",
   "metadata": {},
   "outputs": [],
   "source": []
  }
 ],
 "metadata": {
  "kernelspec": {
   "display_name": "Python 3 (ipykernel)",
   "language": "python",
   "name": "python3"
  },
  "language_info": {
   "codemirror_mode": {
    "name": "ipython",
    "version": 3
   },
   "file_extension": ".py",
   "mimetype": "text/x-python",
   "name": "python",
   "nbconvert_exporter": "python",
   "pygments_lexer": "ipython3",
   "version": "3.11.5"
  }
 },
 "nbformat": 4,
 "nbformat_minor": 5
}
