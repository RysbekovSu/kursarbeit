{
 "cells": [
  {
   "cell_type": "code",
   "execution_count": 3,
   "id": "665e305c-89cf-4028-9390-6b308ddaba9f",
   "metadata": {},
   "outputs": [
    {
     "name": "stdout",
     "output_type": "stream",
     "text": [
      "Predicted count: -25.94438230122364\n"
     ]
    }
   ],
   "source": [
    "import pandas as pd\n",
    "from sklearn.model_selection import train_test_split\n",
    "from sklearn.preprocessing import StandardScaler, OneHotEncoder\n",
    "from sklearn.compose import ColumnTransformer\n",
    "from sklearn.linear_model import LinearRegression\n",
    "from sklearn.preprocessing import PolynomialFeatures\n",
    "from sklearn.tree import DecisionTreeRegressor\n",
    "from sklearn.ensemble import RandomForestRegressor, GradientBoostingRegressor\n",
    "from sklearn.metrics import mean_squared_error, r2_score\n",
    "\n",
    "\n",
    "\n",
    "def predict_model(model, preprocessor, data):\n",
    "    # Применение предобработки\n",
    "    data_transformed = preprocessor.transform(data)\n",
    "    \n",
    "    # Получение предсказаний\n",
    "    predictions = model.predict(data_transformed)\n",
    "    \n",
    "    return predictions\n",
    "\n",
    "# Предсказание на новых данных\n",
    "new_data = pd.DataFrame({\n",
    "    'season': [1],  # Зима\n",
    "    'mnth': [1],   # Декабрь\n",
    "    'hr': [0],     # 2 часа дня\n",
    "    'holiday': [0], # Не выходной\n",
    "    'weekday': [6], # Вторник\n",
    "    'workingday': [0], # Рабочий день\n",
    "    'weathersit': [1], # Ясная погода\n",
    "    'temp': [0.24],   # Температура (normalized)\n",
    "    'atemp': [0.2879],  # Ощущаемая температура (normalized)\n",
    "    'hum': [0.81],    # Влажность (normalized)\n",
    "    'windspeed': [0] # Скорость ветра (normalized)\n",
    "})\n",
    "\n",
    "# Прогнозирование\n",
    "predictions = predict_model(lin_reg, preprocessor, new_data)\n",
    "\n",
    "print(f\"Predicted count: {predictions[0]}\")\n"
   ]
  },
  {
   "cell_type": "code",
   "execution_count": null,
   "id": "d49db3d5-0c51-4cc5-8c43-1e9ac367b3d1",
   "metadata": {},
   "outputs": [],
   "source": []
  }
 ],
 "metadata": {
  "kernelspec": {
   "display_name": "Python 3 (ipykernel)",
   "language": "python",
   "name": "python3"
  },
  "language_info": {
   "codemirror_mode": {
    "name": "ipython",
    "version": 3
   },
   "file_extension": ".py",
   "mimetype": "text/x-python",
   "name": "python",
   "nbconvert_exporter": "python",
   "pygments_lexer": "ipython3",
   "version": "3.11.5"
  }
 },
 "nbformat": 4,
 "nbformat_minor": 5
}
